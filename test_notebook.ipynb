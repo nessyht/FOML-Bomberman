{
 "cells": [
  {
   "cell_type": "code",
   "execution_count": 7,
   "metadata": {},
   "outputs": [
    {
     "name": "stdout",
     "output_type": "stream",
     "text": [
      "['UP']\n"
     ]
    }
   ],
   "source": [
    "actions = []\n",
    "actions.append('UP')\n",
    "print(actions)"
   ]
  },
  {
   "cell_type": "code",
   "execution_count": 8,
   "metadata": {},
   "outputs": [
    {
     "name": "stdout",
     "output_type": "stream",
     "text": [
      "['UP', 'DOWN']\n",
      "['WAIT', 'BOMB']\n"
     ]
    }
   ],
   "source": [
    "actions.append('DOWN')\n",
    "print(actions)\n",
    "new_actions = ['WAIT', 'BOMB']\n",
    "print(new_actions)"
   ]
  },
  {
   "cell_type": "code",
   "execution_count": 9,
   "metadata": {},
   "outputs": [
    {
     "name": "stdout",
     "output_type": "stream",
     "text": [
      "['UP', 'DOWN', 'WAIT', 'BOMB']\n"
     ]
    }
   ],
   "source": [
    "actions.extend(new_actions)\n",
    "print(actions)"
   ]
  }
 ],
 "metadata": {
  "kernelspec": {
   "display_name": "Python 3",
   "language": "python",
   "name": "python3"
  },
  "language_info": {
   "codemirror_mode": {
    "name": "ipython",
    "version": 3
   },
   "file_extension": ".py",
   "mimetype": "text/x-python",
   "name": "python",
   "nbconvert_exporter": "python",
   "pygments_lexer": "ipython3",
   "version": "3.7.0"
  }
 },
 "nbformat": 4,
 "nbformat_minor": 2
}
